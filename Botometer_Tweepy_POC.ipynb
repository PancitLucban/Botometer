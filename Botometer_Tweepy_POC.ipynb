{
 "cells": [
  {
   "cell_type": "markdown",
   "id": "0ea5d04c",
   "metadata": {},
   "source": [
    "### Declare your keys from your TWITTER DEVELOPER PORTAL"
   ]
  },
  {
   "cell_type": "code",
   "execution_count": null,
   "id": "e94db2b5",
   "metadata": {},
   "outputs": [],
   "source": [
    "# you need to install these 3rd party libraries using command prompt\n",
    "#!pip install tweepy\n",
    "#!pip install botometer"
   ]
  },
  {
   "cell_type": "code",
   "execution_count": null,
   "id": "5a8a3da6",
   "metadata": {
    "ExecuteTime": {
     "end_time": "2021-10-29T09:29:33.844654Z",
     "start_time": "2021-10-29T09:29:33.697531Z"
    }
   },
   "outputs": [],
   "source": [
    "import tweepy\n",
    "import botometer\n",
    "import pandas as pd\n",
    "\n",
    "# get your RAPIDAPI keys here https://rapidapi.com/\n",
    "# TWITTER DEVELOPER KEYS here https://developer.twitter.com/\n",
    "rapidapi_key = \"xxxxxxxxxxxxxxxxxxxxxx\"\n",
    "consumer_key = r\"yyyyyyyyyyyyyyyyyyyyyyyyyyyyyyyyy\"\n",
    "consumer_secret = \"zzzzzzzzzzzzzzzzzzzzzzzzzzzzzzzzz\"\n",
    "access_token = r\"aaaaaaaaaaaaaaaaaaaaaaaaaaaaaa\"\n",
    "access_token_secret = r\"bbbbbbbbbbbbbbbbbbbbbbbbbbbbbbbbbbbbbb\"\n",
    "\n",
    "auth = tweepy.OAuthHandler(consumer_key, consumer_secret)\n",
    "auth.set_access_token(access_token, access_token_secret)\n",
    "\n",
    "api = tweepy.API(auth, wait_on_rate_limit=True,wait_on_rate_limit_notify=True)"
   ]
  },
  {
   "cell_type": "markdown",
   "id": "03d53e4a",
   "metadata": {},
   "source": [
    "### Let us declare target TwitterId , which is BONGBONG MARCOS' and LENI ROBREDO's"
   ]
  },
  {
   "cell_type": "code",
   "execution_count": null,
   "id": "3d87af85",
   "metadata": {
    "ExecuteTime": {
     "end_time": "2021-10-29T09:29:34.253386Z",
     "start_time": "2021-10-29T09:29:33.846532Z"
    }
   },
   "outputs": [],
   "source": [
    "leni_user = api.get_user(\"lenirobredo\") \n",
    "print(\"TwitterID: \" + leni_user.id_str + \"| ScreenName: \" + leni_user.screen_name)"
   ]
  },
  {
   "cell_type": "code",
   "execution_count": null,
   "id": "9982160a",
   "metadata": {
    "ExecuteTime": {
     "end_time": "2021-10-29T09:29:34.678554Z",
     "start_time": "2021-10-29T09:29:34.254765Z"
    }
   },
   "outputs": [],
   "source": [
    "bbm_user = api.get_user(\"bongbongmarcos\") \n",
    "print(\"TwitterID: \" + bbm_user.id_str + \"| ScreenName: \" + bbm_user.screen_name)"
   ]
  },
  {
   "cell_type": "code",
   "execution_count": null,
   "id": "9f05e851",
   "metadata": {
    "ExecuteTime": {
     "end_time": "2021-10-29T09:29:34.693695Z",
     "start_time": "2021-10-29T09:29:34.680390Z"
    }
   },
   "outputs": [],
   "source": [
    "user_ids = []\n",
    "user_ids.append(leni_user.id_str)\n",
    "user_ids.append(bbm_user.id_str)"
   ]
  },
  {
   "cell_type": "markdown",
   "id": "84322911",
   "metadata": {},
   "source": [
    "### Here's another way to get Twitter Users by passing a list of twitter IDs"
   ]
  },
  {
   "cell_type": "code",
   "execution_count": null,
   "id": "4751df1f",
   "metadata": {
    "ExecuteTime": {
     "end_time": "2021-10-29T09:29:35.055364Z",
     "start_time": "2021-10-29T09:29:34.695388Z"
    },
    "scrolled": false
   },
   "outputs": [],
   "source": [
    "user_collection = [user for user in api.lookup_users(user_ids)]"
   ]
  },
  {
   "cell_type": "markdown",
   "id": "0299212a",
   "metadata": {},
   "source": [
    "### We Initialize The Botometer object"
   ]
  },
  {
   "cell_type": "code",
   "execution_count": null,
   "id": "eb72395c",
   "metadata": {
    "ExecuteTime": {
     "end_time": "2021-10-29T09:29:35.071296Z",
     "start_time": "2021-10-29T09:29:35.057098Z"
    }
   },
   "outputs": [],
   "source": [
    "twitter_app_auth = {\n",
    "        \"consumer_key\": consumer_key\n",
    "        ,\"consumer_secret\": consumer_secret\n",
    "        ,\"access_token\":access_token\n",
    "        ,\"access_token_secret\": access_token_secret\n",
    "  }\n",
    "bom = botometer.Botometer(wait_on_ratelimit=True,\n",
    "                          rapidapi_key=rapidapi_key,\n",
    "                          **twitter_app_auth)"
   ]
  },
  {
   "cell_type": "markdown",
   "id": "5b9de22b",
   "metadata": {},
   "source": [
    "### This is a simple JSON flattener"
   ]
  },
  {
   "cell_type": "code",
   "execution_count": null,
   "id": "31a9d1a2",
   "metadata": {
    "ExecuteTime": {
     "end_time": "2021-10-29T09:29:35.087178Z",
     "start_time": "2021-10-29T09:29:35.072161Z"
    }
   },
   "outputs": [],
   "source": [
    "def flatten_json(y):\n",
    "    out = {}\n",
    "\n",
    "    def flatten(x, name=''):\n",
    "        if type(x) is dict:\n",
    "            for a in x:\n",
    "                flatten(x[a], name + a + '_')\n",
    "        elif type(x) is list:\n",
    "            i = 0\n",
    "            for a in x:\n",
    "                flatten(a, name + str(i) + '_')\n",
    "                i += 1\n",
    "        else:\n",
    "            out[name[:-1]] = x\n",
    "\n",
    "    flatten(y)\n",
    "    return out"
   ]
  },
  {
   "cell_type": "markdown",
   "id": "52fc2bea",
   "metadata": {},
   "source": [
    "## Let's Run bongbongmarcos' and LeniRobredo's twitter accounts against Botometer"
   ]
  },
  {
   "cell_type": "code",
   "execution_count": null,
   "id": "5a9b08ab",
   "metadata": {
    "ExecuteTime": {
     "end_time": "2021-10-29T09:29:50.652563Z",
     "start_time": "2021-10-29T09:29:35.088096Z"
    },
    "scrolled": false
   },
   "outputs": [],
   "source": [
    "import json\n",
    "\n",
    "bom = botometer.Botometer(wait_on_ratelimit=True,\n",
    "                          rapidapi_key=rapidapi_key,\n",
    "                          **twitter_app_auth)\n",
    "\n",
    "bom_results = []\n",
    "for screen_name, result in bom.check_accounts_in(user_ids):\n",
    "    bom_results.append(flatten_json(result))"
   ]
  },
  {
   "cell_type": "markdown",
   "id": "bcd40449",
   "metadata": {},
   "source": [
    "### We Flatten the JSONified results and insert them as individual rows in a pandas dataframe"
   ]
  },
  {
   "cell_type": "code",
   "execution_count": null,
   "id": "49e2c8a5",
   "metadata": {
    "ExecuteTime": {
     "end_time": "2021-10-29T09:29:51.032373Z",
     "start_time": "2021-10-29T09:29:50.654627Z"
    }
   },
   "outputs": [],
   "source": [
    "df_bom_results = []\n",
    "\n",
    "for result in bom_results:\n",
    "    #print(result)\n",
    "    df =pd.DataFrame(result.items(), columns=['Index', 'Value']).T\n",
    "\n",
    "    new_header = df.iloc[0] #grab the first row for the header\n",
    "    df = df[1:] #take the data less the header row\n",
    "    df.columns = new_header #set the header row as the df header\n",
    "    df.reset_index(drop=True, inplace=True)\n",
    "    df_bom_results.append(df)"
   ]
  },
  {
   "cell_type": "code",
   "execution_count": null,
   "id": "1b52ec5d",
   "metadata": {
    "ExecuteTime": {
     "end_time": "2021-10-29T09:29:51.047557Z",
     "start_time": "2021-10-29T09:29:51.036014Z"
    }
   },
   "outputs": [],
   "source": [
    "len(df_bom_results)"
   ]
  },
  {
   "cell_type": "markdown",
   "id": "30e6c2cb",
   "metadata": {},
   "source": [
    "### Here's how to interpret the results https://rapidapi.com/OSoMe/api/botometer-pro/details"
   ]
  },
  {
   "cell_type": "code",
   "execution_count": null,
   "id": "f5fb9e3d",
   "metadata": {
    "ExecuteTime": {
     "end_time": "2021-10-29T09:29:51.078590Z",
     "start_time": "2021-10-29T09:29:51.049559Z"
    }
   },
   "outputs": [],
   "source": [
    "df_combined = pd.concat(df_bom_results, axis=0)\n",
    "df_combined.reset_index(drop=True, inplace=True)\n",
    "df_combined.head(5)"
   ]
  }
 ],
 "metadata": {
  "hide_input": false,
  "kernelspec": {
   "display_name": "Python 3 (ipykernel)",
   "language": "python",
   "name": "python3"
  },
  "language_info": {
   "codemirror_mode": {
    "name": "ipython",
    "version": 3
   },
   "file_extension": ".py",
   "mimetype": "text/x-python",
   "name": "python",
   "nbconvert_exporter": "python",
   "pygments_lexer": "ipython3",
   "version": "3.8.11"
  },
  "varInspector": {
   "cols": {
    "lenName": 16,
    "lenType": 16,
    "lenVar": 40
   },
   "kernels_config": {
    "python": {
     "delete_cmd_postfix": "",
     "delete_cmd_prefix": "del ",
     "library": "var_list.py",
     "varRefreshCmd": "print(var_dic_list())"
    },
    "r": {
     "delete_cmd_postfix": ") ",
     "delete_cmd_prefix": "rm(",
     "library": "var_list.r",
     "varRefreshCmd": "cat(var_dic_list()) "
    }
   },
   "position": {
    "height": "220.85px",
    "left": "1196.2px",
    "right": "20px",
    "top": "350px",
    "width": "312px"
   },
   "types_to_exclude": [
    "module",
    "function",
    "builtin_function_or_method",
    "instance",
    "_Feature"
   ],
   "window_display": false
  }
 },
 "nbformat": 4,
 "nbformat_minor": 5
}
